{
 "cells": [
  {
   "cell_type": "markdown",
   "id": "224af7a9-df20-4b2a-9d6d-d6ba9c10158a",
   "metadata": {},
   "source": [
    "# < 4주차 과제 / 이가희 >"
   ]
  },
  {
   "cell_type": "markdown",
   "id": "f4bfa6d0-a6a1-41b4-b6e1-ec2f0d19989d",
   "metadata": {},
   "source": [
    "# 11. 퀵 정렬"
   ]
  },
  {
   "attachments": {},
   "cell_type": "markdown",
   "id": "c809218f-b1f0-49c0-8507-9a618ad1c830",
   "metadata": {},
   "source": [
    "<img src=\"https://gmlwjd9405.github.io/images/algorithm-quick-sort/quick-sort.png\" width=\"500\" height=\"500\"/>"
   ]
  },
  {
   "cell_type": "markdown",
   "id": "98530e2b-b232-492b-8aa0-4eca4069dd5f",
   "metadata": {},
   "source": [
    "그룹을 두개로 나눌때 미리 **기준** 과 비교해서 나눈후 재귀호출  \n",
    "1) 기준을 세운다\n",
    "2) 기준을 앞그룹, 뒤그룹 으로 정렬\n",
    "\n",
    "* input : list\n",
    "* output : 정렬된 list\n",
    "* 종료조건 : n이 1보다 작거나 같을 경우\n",
    "\n",
    "기준에 따라 시간이 달라질 수 있다  \n",
    "재귀호출을 이용하여 두 그룹 정렬  \n",
    "계산복잡도 : O(nlogn) ~ O(n^2)  "
   ]
  },
  {
   "cell_type": "code",
   "execution_count": 11,
   "id": "686e18db-beba-41f9-a15c-c5a2d3d9f717",
   "metadata": {},
   "outputs": [],
   "source": [
    "def quick_sort(a):\n",
    "    n = len(a)\n",
    "    # 0. 종료조건\n",
    "    if n<= 1 :\n",
    "        return a\n",
    "        \n",
    "    # 1. 기준잡기\n",
    "    pivot = a[-1] #임의로 리스트의 제일 끝값을 기준으로 \n",
    "\n",
    "    # 2. 두개의 그룹 만들기\n",
    "    g1 = []; g2 = [] #빈 두개의 리스트 \n",
    "\n",
    "    # 3. 비교 \n",
    "    for i in range(0,n-1): #마지막 미리 기준값으로 뺐으니 제외\n",
    "        if a[i] < pivot : # 만약 리스트의 값이 기준보다 작다면 \n",
    "            g1.append(a[i]) #리스트의 값을 g1 으로 추가(작은 그룹)\n",
    "        else : \n",
    "            g2.append(a[i]) #리스트의 값을 g2로 추가(큰 그룹)\n",
    "\n",
    "    # 4. 쌓아주기\n",
    "    return quick_sort(g1) + [pivot] + quick_sort(g2) # 그룹들을 다시 넣어 정렬 후 기준 앞뒤로 쌓아주기 "
   ]
  },
  {
   "cell_type": "code",
   "execution_count": 12,
   "id": "2ddf3fc1-678b-49fe-9aaa-6272bae62200",
   "metadata": {},
   "outputs": [
    {
     "data": {
      "text/plain": [
       "[1, 2, 3, 4, 5, 6, 7, 8, 9, 10]"
      ]
     },
     "execution_count": 12,
     "metadata": {},
     "output_type": "execute_result"
    }
   ],
   "source": [
    "d = [6,8,3,9,10,1,2,4,7,5]\n",
    "quick_sort(d)"
   ]
  },
  {
   "cell_type": "code",
   "execution_count": 37,
   "id": "f5510d7d-9223-4767-aafe-ed98a976995f",
   "metadata": {},
   "outputs": [],
   "source": [
    "# 일반적인 퀵 정렬 알고리즘\n",
    "# input : 리스트 a,시작점,끝점\n",
    "def quik_sort_sub(a,start,end):\n",
    "    # 0. 종료조건\n",
    "    if end - start <= 0 :\n",
    "        return\n",
    "\n",
    "    # 1. 기준잡기\n",
    "    pivot = a[end]\n",
    "    i = start \n",
    "\n",
    "    # 2. 비교 \n",
    "    for j in range(start,end):\n",
    "        if a[j] <= pivot : # 기준보다 값이 작거나 같을 경우\n",
    "            a[i],a[j] = a[j],a[i] # i,j 값을 바꾸어주고 -> a[i] 에 쌓아주고\n",
    "            i += 1  # i 값 증가 \n",
    "    a[i],a[end] = a[end],a[i] #반복문을 나와 처음과 끝값을 바꾸어준다 \n",
    "\n",
    "    # 3. 재귀호출\n",
    "    quik_sort_sub(a,start,i-1) #기준 앞 그룹\n",
    "    quik_sort_sub(a,i+1,end) #기준 뒤 그룹\n",
    "\n",
    "    # 5. 리스트 전체를 대상으로 재귀호출 \n",
    "def quick_sort(a):\n",
    "    quik_sort_sub(a,0,len(a)-1) "
   ]
  },
  {
   "cell_type": "code",
   "execution_count": 36,
   "id": "4b922b74-54de-470f-b79e-9e6a2e6f2cd5",
   "metadata": {},
   "outputs": [
    {
     "name": "stdout",
     "output_type": "stream",
     "text": [
      "[1, 2, 3, 4, 5, 6, 7, 8, 9, 10]\n"
     ]
    }
   ],
   "source": [
    "d = [6,8,3,9,10,1,2,4,7,5]\n",
    "quick_sort(d)\n",
    "print(d)"
   ]
  },
  {
   "cell_type": "markdown",
   "id": "770a8f2f-4080-45dd-a841-fbbfd3e5ce47",
   "metadata": {},
   "source": [
    "## 11-1. 버블정렬"
   ]
  },
  {
   "cell_type": "markdown",
   "id": "6085c0d3-5337-430a-bcde-90255dc64c46",
   "metadata": {},
   "source": [
    "<img src=\"https://gmlwjd9405.github.io/images/algorithm-bubble-sort/bubble-sort.png\" width=\"700\" height=\"300\"/>"
   ]
  },
  {
   "cell_type": "markdown",
   "id": "18c41a10-5b4f-4560-b095-528ade26455f",
   "metadata": {},
   "source": [
    "1) 일렬로 줄을 세운다\n",
    "2) 하나씩 비교하면서 이웃한 앞뒤의 값을 비교\n",
    "3) 둘중 큰값을 뒤로\n",
    "4) 계속 하나씩 뒤로 이동하며 모든 값이 순서대로 설때까지 반복\n",
    "5) 만약 자리를 한번도 바꾼적이 없으면 순서대로이다\n",
    "\n",
    "* input : 리스트\n",
    "* 계산복잡도 : O(n) ~ O(n^2)"
   ]
  },
  {
   "cell_type": "code",
   "execution_count": 47,
   "id": "63b77911-4a82-47e3-ad2d-7f11edec646f",
   "metadata": {},
   "outputs": [],
   "source": [
    "def buble_sort(a):\n",
    "    n = len(a)\n",
    "    while True :\n",
    "        changed = False\n",
    "        for i in range(0,n-1):#하나씩 돌면서 \n",
    "            if a[i] > a[i+1] : #앞이 뒤보다 크면\n",
    "                print(a)\n",
    "                a[i],a[i+1] = a[i+1],a[i] #두 값을 바꾼다\n",
    "                changed = True  #바뀐흔적 표시\n",
    "                \n",
    "        if changed == False :#바뀐적이 없거나 더이상 바뀌지 않으면\n",
    "            return"
   ]
  },
  {
   "cell_type": "code",
   "execution_count": 46,
   "id": "7cc60fb3-60aa-4324-8e92-5e695d6d1c2d",
   "metadata": {},
   "outputs": [
    {
     "name": "stdout",
     "output_type": "stream",
     "text": [
      "[2, 4, 5, 1, 3]\n",
      "[2, 4, 1, 5, 3]\n",
      "[2, 4, 1, 3, 5]\n",
      "[2, 1, 4, 3, 5]\n",
      "[2, 1, 3, 4, 5]\n"
     ]
    },
    {
     "data": {
      "text/plain": [
       "[1, 2, 3, 4, 5]"
      ]
     },
     "execution_count": 46,
     "metadata": {},
     "output_type": "execute_result"
    }
   ],
   "source": [
    "d = [2,4,5,1,3]\n",
    "buble_sort(d)\n",
    "d"
   ]
  },
  {
   "cell_type": "markdown",
   "id": "7ebcbde8-419e-4c19-9068-e202acc14b31",
   "metadata": {},
   "source": [
    "### sorted vs sort"
   ]
  },
  {
   "cell_type": "markdown",
   "id": "22977dd5-c328-488a-bd94-2769c2961134",
   "metadata": {},
   "source": [
    "* sorted()  \n",
    ": 인자로 리스트를 주면 그 정렬한 리스트를 돌려줌 (하지만 원래 리스트는 그대로)\n",
    "* list.sort()\n",
    ": 인자로 리스트를 주면 원래의 리스트 자체를 바꿔준 (리턴값은 None)\n",
    "* Timsort\n",
    ": 파이썬의 정렬 알고리즘, 평균 계산복잡도 O(nlogn)"
   ]
  },
  {
   "cell_type": "code",
   "execution_count": 52,
   "id": "7220c79b-f270-4324-998b-11dd0b66a65b",
   "metadata": {},
   "outputs": [
    {
     "name": "stdout",
     "output_type": "stream",
     "text": [
      "sorted [1, 2, 3, 4, 5]\n",
      "[2, 4, 5, 1, 3]\n",
      "sort None\n",
      "[1, 2, 3, 4, 5]\n"
     ]
    }
   ],
   "source": [
    "# sorted vs sort\n",
    "d = [2,4,5,1,3]\n",
    "print('sorted',sorted(d))\n",
    "print(d)\n",
    "print('sort',d.sort())\n",
    "print(d)"
   ]
  },
  {
   "cell_type": "markdown",
   "id": "535c8117-f8ef-4bed-af8b-d2beca2c86a5",
   "metadata": {},
   "source": [
    "# 12. 이분탐색"
   ]
  },
  {
   "cell_type": "markdown",
   "id": "8c0c157f-24fb-4d80-96ee-d133fd07e9ab",
   "metadata": {},
   "source": [
    "<img src=\"https://images.velog.io/images/ming/post/ab848f15-3998-4e61-b061-01458ad6f18d/%EC%9D%B4%EB%B6%84%ED%83%90%EC%83%89.png\" width=\"400\" height=\"500\"/>"
   ]
  },
  {
   "cell_type": "markdown",
   "id": "89a70b34-856c-42da-be92-84d828b63c51",
   "metadata": {},
   "source": [
    "1) 중간 위치를 찾는다\n",
    "2) 찾는값과 중간위치 비교\n",
    "3) 같다면 위치번호를 결과값으로 돌려줌(종료)\n",
    "4) 크다면 중간위치 오른쪽 대상으로 탐색 -> 1번으로\n",
    "5) 작다면 중간위치 왼쪽 대상으로 탐색 -> 1번으로\n",
    "\n",
    "* 둘로 나누어 탐색한다\n",
    "* 계속해서 절반씩 찾을 양이 줄어든다\n",
    "* 현실에서 많이 사용\n",
    "* 효율적\n",
    "* input : 리스트, 찾는값\n",
    "* output : 값의 위치 (없을경우 -1 )\n",
    "* 계산복잡도 : O(logn)"
   ]
  },
  {
   "cell_type": "code",
   "execution_count": 56,
   "id": "1955fab4-3bfe-4e22-8ce5-7d3f01840b02",
   "metadata": {},
   "outputs": [],
   "source": [
    "def binary_search(a,x):\n",
    "    start = 0\n",
    "    end = len(a)-1\n",
    "\n",
    "    while start <= end : #탐색할 범위가 남아있을때까지 반복\n",
    "        mid = (start + end ) // 2 # 중간값 설정 \n",
    "        if x == a[mid]: #발견할경우\n",
    "            return mid\n",
    "        elif  x > a[mid]: #클경우 \n",
    "            start = mid+1 #시작값을 중간 다음값으로 바꿔준다 (중간값도 아니니까)\n",
    "        else : end = mid-1 #끝값을 중간 전값으로 바꿔준다 (중간값도 아니니까)\n",
    "    return -1 #찾지 못할때 -1 반환 "
   ]
  },
  {
   "cell_type": "code",
   "execution_count": 57,
   "id": "568b2b07-2b57-477d-9e6f-3580f1b7bfe0",
   "metadata": {},
   "outputs": [
    {
     "data": {
      "text/plain": [
       "(5, -1)"
      ]
     },
     "execution_count": 57,
     "metadata": {},
     "output_type": "execute_result"
    }
   ],
   "source": [
    "d = [1,4,9,16,25,36,49,64,81]\n",
    "binary_search(d,36),binary_search(d,50)"
   ]
  },
  {
   "cell_type": "code",
   "execution_count": 82,
   "id": "438a35d1-9c5b-449f-8bdd-a8ba5d939d49",
   "metadata": {},
   "outputs": [],
   "source": [
    "# 12-1\n",
    "# 생각해보기 \n",
    "# 재귀호출 이용\n",
    "def binary_search_call(a,x,start,end):\n",
    "    # 0. 종료조건 \n",
    "    if start > end :  \n",
    "        return -1\n",
    "        \n",
    "    # 1. 중간값 설정 \n",
    "    mid = (start + end ) // 2\n",
    "\n",
    "    # 2. 발견할경우 \n",
    "    if x == a[mid]: \n",
    "        return mid\n",
    "\n",
    "    # 3. 위치 비교시 크다면 오른쪽 대상으로 재귀\n",
    "    if x > a[mid]: #클경우 \n",
    "        return binary_search_call(a,x,mid+1,end) #리턴\n",
    "\n",
    "    # 4. 위치 비교시 작다면 왼쪽 대상으로 재귀\n",
    "    elif x < a[mid] :\n",
    "        return binary_search_call(a,x,start,mid-1) #리턴\n",
    "\n",
    "    return -1 # 찾지 못한 경우 \n",
    "\n",
    "# 5. 리스트 전체를 대상으로 재귀호출\n",
    "def binary_search(a,x):\n",
    "    return binary_search_call(a,x,0,len(a)-1)\n",
    "\n",
    "    "
   ]
  },
  {
   "cell_type": "code",
   "execution_count": 83,
   "id": "097b798f-4d9f-434e-9e7a-dd1cb83740cf",
   "metadata": {},
   "outputs": [
    {
     "data": {
      "text/plain": [
       "(5, -1)"
      ]
     },
     "execution_count": 83,
     "metadata": {},
     "output_type": "execute_result"
    }
   ],
   "source": [
    "d = [1,4,9,16,25,36,49,64,81]\n",
    "binary_search(d,36),binary_search(d,50)"
   ]
  },
  {
   "cell_type": "markdown",
   "id": "5bee211d-a303-478a-a560-db147f3591ee",
   "metadata": {},
   "source": [
    "### 계산복잡도 "
   ]
  },
  {
   "cell_type": "markdown",
   "id": "c2b8385a-68bb-4f3c-9643-c0447b47cc92",
   "metadata": {},
   "source": [
    "1) O(1) : n과 무관  \n",
    "2) O(logn) : n의 로그 값에 비례 ex) 이분탐색  \n",
    "3) O(n) : n에 비례 ex)최대값찾기, 순차탐색\n",
    "4) O(nlogn) : nlogn에 비례 ex) 병합정렬, 퀵정렬\n",
    "5) O(n^2) : n^2 에 비례 ex) 선택정렬, 삽입정렬\n",
    "6) O(2^n) : 2^n 에 비례 ex) 하노이 탑"
   ]
  },
  {
   "attachments": {},
   "cell_type": "markdown",
   "id": "008f13c5-b28a-4141-83db-4ada745f50e8",
   "metadata": {},
   "source": [
    "<img src=\"https://img1.daumcdn.net/thumb/R800x0/?scode=mtistory2&fname=https%3A%2F%2Fblog.kakaocdn.net%2Fdn%2Fs0pox%2Fbtq6Mbphdwr%2Fs5K0D58hi5hiSrBuxmHHwk%2Fimg.png\" width=\"600\" height=\"300\"/>"
   ]
  },
  {
   "cell_type": "markdown",
   "id": "243a80f7-6328-4650-b74d-d4b2f55ebf5c",
   "metadata": {},
   "source": [
    "# 13. 회문찾기.큐.스택"
   ]
  },
  {
   "cell_type": "markdown",
   "id": "0004ab7f-5572-4c89-ac63-c5d96b5c67b3",
   "metadata": {},
   "source": [
    "회문 : 순서대로 읽어도 거꾸로 읽어도 내용이 같은 것 "
   ]
  },
  {
   "cell_type": "markdown",
   "id": "0df86506-23f4-42df-991d-7e3e8e04e405",
   "metadata": {},
   "source": [
    "## 13-1. 큐(Queue)"
   ]
  },
  {
   "attachments": {},
   "cell_type": "markdown",
   "id": "35d79f1b-3cfa-4270-bbba-a6b01426086d",
   "metadata": {},
   "source": [
    "<img src=\"https://velog.velcdn.com/images/hyhy9501/post/606a209d-5184-4850-8751-8d2d5cd7d31e/image.png\" width=\"600\" height=\"300\"/>"
   ]
  },
  {
   "cell_type": "markdown",
   "id": "abe6710c-94b1-47b4-aa3a-d6e32ade40c6",
   "metadata": {},
   "source": [
    "* 줄서기에 비유\n",
    "* FIFO 구조\n",
    "* IN [1,2,3,4] -> OUT [1,2,3,4]\n",
    "* enque : 한개씩 넣는 동작 (append())\n",
    "* deque : 한개씩 빼는 동작 (pop())"
   ]
  },
  {
   "cell_type": "markdown",
   "id": "b18b3b10-8d4f-482e-9de4-9e5fd99bf5ec",
   "metadata": {},
   "source": [
    "## 13-2. 스택(stack)"
   ]
  },
  {
   "attachments": {},
   "cell_type": "markdown",
   "id": "1db7187a-1cf2-4df5-ae37-6d91838c54f3",
   "metadata": {},
   "source": [
    "<img src=\"https://blog.kakaocdn.net/dn/bFXsqY/btq3YMeqmiY/6k6U8DvuNGAKxWgR1Zp2W1/img.png\" width=\"600\" height=\"300\"/>"
   ]
  },
  {
   "cell_type": "markdown",
   "id": "3c5f770c-e7c3-4c14-a88e-4ce13d6d4bdc",
   "metadata": {},
   "source": [
    "* 접시쌓기\n",
    "* LIFO 구조\n",
    "* IN [1,2,3,4] -> OUT [4,3,2,1]\n",
    "* push : 하나씩 넣는 동작 (append())\n",
    "* pop : 하나씩 빼는 동작 (pop())"
   ]
  },
  {
   "cell_type": "code",
   "execution_count": 84,
   "id": "58757a3e-d06f-4418-ae2f-3d98cf25a59a",
   "metadata": {},
   "outputs": [],
   "source": [
    "# 회문구조\n",
    "# 큐에서 꺼낸 값 == 스택에서 꺼낸 값"
   ]
  },
  {
   "cell_type": "code",
   "execution_count": 100,
   "id": "09694dc6-65c1-4521-b5bf-f6cbd23efae5",
   "metadata": {},
   "outputs": [],
   "source": [
    "def palindrom(s):\n",
    "    # 0. 빈 큐,스택 생성\n",
    "    qu =[]; st=[] \n",
    "\n",
    "    # 1. 알파벳을 각각 넣기\n",
    "    for i in s :\n",
    "    # 1-1. 알파벳인 경우만 넣는다 \n",
    "        if i.isalpha():\n",
    "            # 1-3. 대소문자 모두 소문자로 \n",
    "            qu.append(i.lower()) \n",
    "            st.append(i.lower())\n",
    "\n",
    "    # 2. 문자를 꺼내면서 비교 \n",
    "    while qu : #qu 가 빌때까지 \n",
    "        if qu.pop(0) != st.pop() : #큐의 값과 스택값이 다를경우 -> 회문 아님\n",
    "            return False\n",
    "    return True #같을 경우 반환\n"
   ]
  },
  {
   "cell_type": "code",
   "execution_count": 99,
   "id": "f02d04f1-84d7-4137-9573-44e3aab6b04d",
   "metadata": {},
   "outputs": [
    {
     "data": {
      "text/plain": [
       "(True, True, False)"
      ]
     },
     "execution_count": 99,
     "metadata": {},
     "output_type": "execute_result"
    }
   ],
   "source": [
    "palindrom('Wow'),palindrom(\"Madam, I'm Adam\"),palindrom(\"Madam, I am Adam.\")"
   ]
  },
  {
   "cell_type": "code",
   "execution_count": 106,
   "id": "57d88bcc-1422-4d9e-8381-e337689440ba",
   "metadata": {},
   "outputs": [],
   "source": [
    "# 13-1 큐와 스택을 이용하지 않고 회문인지 판단하기\n",
    "def palindrom(s):\n",
    "    # 1. 비교할 위치 지정 (앞,뒤)\n",
    "    i = 0\n",
    "    j=len(s)-1\n",
    "\n",
    "    while i<j : # 중간까지만 검사\n",
    "        # 2. i위치 문자가 알파벳이 아닐경우 뒤로한칸 이동 \n",
    "        if s[i].isalpha() == False :\n",
    "            i += 1\n",
    "        # 3. j 위치 문자가 알파벳이 아닐경우 앞으로한칸 이동\n",
    "        elif s[j].isalpha() == False :\n",
    "            j -= 1\n",
    "        # 4. i,j 위치 문자가 알파벳일경우 비교 -> 다른경우 회문 아님\n",
    "        elif s[i].lower() != s[j].lower() :\n",
    "            return False\n",
    "        # 5. 같을경우 다음으로 넘긴다 \n",
    "        else :\n",
    "            i +=1\n",
    "            j -=1\n",
    "    return True"
   ]
  },
  {
   "cell_type": "code",
   "execution_count": 107,
   "id": "6b041be8-6424-4c57-8c8f-6cc6d916bf79",
   "metadata": {},
   "outputs": [
    {
     "data": {
      "text/plain": [
       "(True, True, False)"
      ]
     },
     "execution_count": 107,
     "metadata": {},
     "output_type": "execute_result"
    }
   ],
   "source": [
    "palindrom('Wow'),palindrom(\"Madam, I'm Adam\"),palindrom(\"Madam, I am Adam.\")"
   ]
  },
  {
   "cell_type": "markdown",
   "id": "961557eb-d298-410d-ae06-47282c777ba4",
   "metadata": {},
   "source": [
    "# 14. 동명이인 찾기"
   ]
  },
  {
   "cell_type": "markdown",
   "id": "5993f985-a3d8-4d7c-a01e-7292934404cf",
   "metadata": {},
   "source": [
    "1) 빈 딕셔너리 만들기\n",
    "2) 리스트에서 이름을 꺼내며 반복\n",
    "3) 이름이 딕셔너리에 있는지 확인\n",
    "4) 있다면 등장횟수 +1\n",
    "5) 없다면 이름을 키로 해서 저장\n",
    "6) 등장횟수가 2 이상인 이름을 찾아 집합에 넣어서 출력\n",
    "\n",
    "* 모든 사람을 비교하는 것보단 시간복잡도가 낫다\n",
    "* 하지만 더 많은 공간복잡도 필요\n",
    "* 하지만 요즈음에는 공간보단 시간복잡도를 고려하는게 낫다  "
   ]
  },
  {
   "cell_type": "code",
   "execution_count": 108,
   "id": "672dec30-2df1-42fc-89a3-7669bdd6a20a",
   "metadata": {},
   "outputs": [],
   "source": [
    "def find_same_name(a):\n",
    "    # 1. 각 이름의 등장횟수를 딕셔너리로 만든다 \n",
    "    name_dict = {}\n",
    "    for name in a :\n",
    "        if name in name_dict :\n",
    "            name_dict[name] += 1\n",
    "        else : name_dict[name] = 1\n",
    "\n",
    "    # 2. 딕셔너리에 등장횟수가 2이상인것을 집합에 추가\n",
    "    result = set()\n",
    "    for name in name_dict :\n",
    "        if name_dict[name] >= 2 :\n",
    "            result.add(name)\n",
    "\n",
    "    return result"
   ]
  },
  {
   "cell_type": "code",
   "execution_count": 109,
   "id": "72da8b30-01f6-46d6-8e66-0f67a87966d7",
   "metadata": {},
   "outputs": [
    {
     "data": {
      "text/plain": [
       "{'Tom'}"
      ]
     },
     "execution_count": 109,
     "metadata": {},
     "output_type": "execute_result"
    }
   ],
   "source": [
    "name = ['Tom','Jerry','Mike','Tom']\n",
    "find_same_name(name)"
   ]
  },
  {
   "cell_type": "code",
   "execution_count": 110,
   "id": "d8b45713-6fd3-452c-917e-8777614c1ff2",
   "metadata": {},
   "outputs": [
    {
     "data": {
      "text/plain": [
       "{'Mike', 'Tom'}"
      ]
     },
     "execution_count": 110,
     "metadata": {},
     "output_type": "execute_result"
    }
   ],
   "source": [
    "name2 = ['Tom','Jerry','Mike','Tom','Mike']\n",
    "find_same_name(name2)"
   ]
  },
  {
   "cell_type": "markdown",
   "id": "83fa8088-7572-4599-b349-3959ec8dba79",
   "metadata": {},
   "source": [
    "* 계산복잡도  \n",
    "for 반복문 중첩 : O(n^2)  \n",
    "두개의 for 반복문 : O(n) "
   ]
  },
  {
   "cell_type": "code",
   "execution_count": 128,
   "id": "c0e34eb5-d7ff-4f72-a506-9ce20f6aaf83",
   "metadata": {},
   "outputs": [],
   "source": [
    "# 14-1 \n",
    "# 생각해보기 \n",
    "def find_same_name2(name_dict,number):\n",
    "        if number in name_dict:\n",
    "            # 간단하게 in 을 이용해서 확인 가능\n",
    "            return name_dict[number]\n",
    "        else :\n",
    "            return '?' "
   ]
  },
  {
   "cell_type": "code",
   "execution_count": 129,
   "id": "d971604f-6a2e-48f6-a5e7-75591a8461a6",
   "metadata": {},
   "outputs": [
    {
     "data": {
      "text/plain": [
       "('Summer', '?')"
      ]
     },
     "execution_count": 129,
     "metadata": {},
     "output_type": "execute_result"
    }
   ],
   "source": [
    "stu_dict = {\n",
    "    39 : 'Justin',\n",
    "    14 : 'John',\n",
    "    67 : 'Mike',\n",
    "    105 : 'Summer'\n",
    "}\n",
    "find_same_name2(stu_dict,105),find_same_name2(stu_dict,777)"
   ]
  },
  {
   "cell_type": "markdown",
   "id": "5f72bdda-8da2-47cb-b867-4b341f5d523f",
   "metadata": {},
   "source": [
    "# 15. 친구의 친구 찾기(그래프)"
   ]
  },
  {
   "attachments": {},
   "cell_type": "markdown",
   "id": "5ca213a6-787b-472a-9086-a13816e90dae",
   "metadata": {},
   "source": [
    "<img src=\"https://images.velog.io/images/elma98/post/e3da79e4-cde5-47d2-9eda-e15a21b35f7f/graph.png\" width=\"300\" height=\"300\"/>"
   ]
  },
  {
   "cell_type": "markdown",
   "id": "5fea41c1-ae70-4471-9f2b-51b2fc9f4786",
   "metadata": {},
   "source": [
    "### 리스트와 딕셔너리를 이용한 그래프 표현\n",
    "1) 각 꼭지점의 정보 저장\n",
    "2) 딕셔너리 생성\n",
    "3) 꼭짓점을 키로 연결된 다른 꼭짓점을 리스트로 만들어 값으로 저장\n",
    "\n",
    "* 꼬리를 무는 친구 처리\n",
    "* 이미 추가된 사람 반복되지 않게  \n",
    "<span style = \"color: blue\"> -> 큐 사용</span>\n",
    "\n",
    "1) 큐 생성 : 앞으로 처리할 사람 저장\n",
    "2) 집합 생성 : 이미 큐에 처리한 사람 저장\n",
    "3) 검색의 출발점 : 큐,집합에 저장\n",
    "4) 큐에 사람이 있다면 꺼내서 출력\n",
    "5) 꺼낸 사람중 큐에 추가된 적이 없으면 큐와 집합에 추가\n",
    "6) 있다면 -> 4번 "
   ]
  },
  {
   "cell_type": "code",
   "execution_count": 188,
   "id": "21572371-7954-43b3-a019-e503b7f1aa28",
   "metadata": {},
   "outputs": [],
   "source": [
    "def print_all_friends(g,start):\n",
    "    # 1. \n",
    "    qu = []\n",
    "    # 2.\n",
    "    done = set()\n",
    "\n",
    "    # 3.\n",
    "    qu.append(start)\n",
    "    done.add(start)\n",
    "    # 4. \n",
    "    while qu :\n",
    "        p = qu.pop(0)\n",
    "        print(p)\n",
    "\n",
    "    # 5. \n",
    "        for x in g[p] :\n",
    "            if x not in done : #집합에 없다면(처리되지 않은 사람이면)\n",
    "                qu.append(x)\n",
    "                done.add(x)\n",
    "            \n",
    "    "
   ]
  },
  {
   "cell_type": "code",
   "execution_count": 189,
   "id": "422e5cfc-b40b-4eef-8ad6-855430df0d4f",
   "metadata": {},
   "outputs": [],
   "source": [
    "fr_info = {\n",
    "    'Summer' : ['John','Justin','Mike'],\n",
    "    'John' : ['Summer','Justin'],\n",
    "    'Justin' : ['John','Summer','Mike','May'],\n",
    "    'Mike' : ['Summer','Justin'],\n",
    "    'May' : ['Justin','Kim'],\n",
    "    'Kim' : ['May'],\n",
    "    'Tom' : ['Jerry'],\n",
    "    'Jerry' : ['Tom']\n",
    "}"
   ]
  },
  {
   "cell_type": "code",
   "execution_count": 190,
   "id": "54fb02de-bf8e-466d-a472-876abaab43b6",
   "metadata": {},
   "outputs": [
    {
     "name": "stdout",
     "output_type": "stream",
     "text": [
      "Summer\n",
      "John\n",
      "Justin\n",
      "Mike\n",
      "May\n",
      "Kim\n"
     ]
    }
   ],
   "source": [
    "print_all_friends(fr_info,'Summer')"
   ]
  },
  {
   "cell_type": "code",
   "execution_count": 191,
   "id": "bc1427d0-3420-4127-8a87-9d227a16681e",
   "metadata": {},
   "outputs": [],
   "source": [
    "# 촌수 계산 \n",
    "def print_all_friends(g,start):\n",
    "    \n",
    "    qu = [] # 처리할 사람이름, 친밀도 저장\n",
    "    done = set() # 처리한 사람이름 저장\n",
    "\n",
    "    #(사람이름,친밀도)\n",
    "    qu.append((start,0)) #자신은 : 0\n",
    "    done.add(start)\n",
    "\n",
    "    while qu :\n",
    "        #(p = 사람이름, d = 친밀도)\n",
    "        (p,d) = qu.pop(0)\n",
    "        print(p,d)\n",
    "\n",
    "        # 밸류 값들 중 \n",
    "        for x in g[p] :\n",
    "            if x not in done: #처리 안된 사람들이 있으면\n",
    "                qu.append((x,d+1)) #친밀도를 하나 증가 시켜 넣고\n",
    "                done.add(x) #처리했으니 집합에 추가"
   ]
  },
  {
   "cell_type": "code",
   "execution_count": 192,
   "id": "8522f063-8a0b-4c43-8a48-2a99508ce080",
   "metadata": {},
   "outputs": [],
   "source": [
    "fr_info = {\n",
    "    'Summer' : ['John','Justin','Mike'],\n",
    "    'John' : ['Summer','Justin'],\n",
    "    'Justin' : ['John','Summer','Mike','May'],\n",
    "    'Mike' : ['Summer','Justin'],\n",
    "    'May' : ['Justin','Kim'],\n",
    "    'Kim' : ['May'],\n",
    "    'Tom' : ['Jerry'],\n",
    "    'Jerry' : ['Tom']\n",
    "}"
   ]
  },
  {
   "cell_type": "code",
   "execution_count": 193,
   "id": "cb0e9d74-4e37-43af-ba0c-3c4ee8e0fbc0",
   "metadata": {},
   "outputs": [
    {
     "name": "stdout",
     "output_type": "stream",
     "text": [
      "Summer 0\n",
      "John 1\n",
      "Justin 1\n",
      "Mike 1\n",
      "May 2\n",
      "Kim 3\n"
     ]
    }
   ],
   "source": [
    "print_all_friends(fr_info,'Summer')"
   ]
  },
  {
   "cell_type": "code",
   "execution_count": 194,
   "id": "1ccf1d10-b133-4228-8395-1131d6239ca8",
   "metadata": {},
   "outputs": [
    {
     "name": "stdout",
     "output_type": "stream",
     "text": [
      "Jerry 0\n",
      "Tom 1\n"
     ]
    }
   ],
   "source": [
    "print_all_friends(fr_info,'Jerry')"
   ]
  },
  {
   "cell_type": "markdown",
   "id": "ce778763-b7c5-41db-999d-80ee3213b5bb",
   "metadata": {},
   "source": [
    "### 너비우선 탐색 알고리즘"
   ]
  },
  {
   "attachments": {},
   "cell_type": "markdown",
   "id": "e2ef7ad6-6382-4390-aa16-3083f3b36b95",
   "metadata": {},
   "source": [
    "<img src=\"https://velog.velcdn.com/images%2Fsukong%2Fpost%2F103fbeed-3f70-4074-9a7d-76915a7764f2%2FBFS.png\" width=\"300\" height=\"300\"/>"
   ]
  },
  {
   "cell_type": "markdown",
   "id": "ccad7745-cf2e-4784-9a58-55e25b5807ec",
   "metadata": {},
   "source": [
    "1) 시작 꼭짓점을 qu, done 에 추가하고 시작\n",
    "2) > qu 에서 1을 꺼내 출력 (qu = [] done = {1}\n",
    "3) 1에 연결된 2,3을 qu, done에 추가 (qu =[2,3] done = {1,2,3} )\n",
    "4) > qu 에서 2를 꺼내 출력 (qu = [3] done = {1,2,3})\n",
    "5) 2에 연결된 1,4,5 중 1을 이미 done, 4,5를 qu, done 에 추가 (qu = [3,4,5] done={1,2,3,4,5})\n",
    "6) > qu 에서 3을 꺼내 출력 (qu = [4,5] done={1,2,3,4,5})\n",
    "7) 3에 1을 이미 done, 연결된것 없음  (qu = [3,4,5] done={1,2,3,4,5})\n",
    "8) > qu 에서 4을 꺼내 출력 (qu = [5] done={1,2,3,4,5})\n",
    "9) 4에 2을 이미 done, 연결된것 없음  (qu = [5] done={1,2,3,4,5})\n",
    "10) > qu 에서 5을 꺼내 출력 (qu = [] done={1,2,3,4,5})\n",
    "11) 5에 2을 이미 done, 연결된것 없음  (qu = [] done={1,2,3,4,5})\n",
    "12) qu 가 빔 -> 종료"
   ]
  },
  {
   "cell_type": "code",
   "execution_count": 201,
   "id": "c9e1b644-e7dc-4443-b11a-86bbc96c4f66",
   "metadata": {},
   "outputs": [],
   "source": [
    "# 15-1 \n",
    "# 그래프 탐색(너비우선탐색) 알고리즘\n",
    "def bfs(g,start):\n",
    "    qu = []\n",
    "    done = set()\n",
    "\n",
    "    # 1. 시작점 추가 \n",
    "    qu.append(start)\n",
    "    done.add(start)\n",
    "\n",
    "    while qu : \n",
    "        # 2. 값을 하나씩 꺼내서 \n",
    "        p = qu.pop(0)\n",
    "        print(p)\n",
    "        for x in g[p]:\n",
    "            if x not in done: #집합에 없다면 \n",
    "                # 추가\n",
    "                qu.append(x)\n",
    "                done.add(x)"
   ]
  },
  {
   "cell_type": "code",
   "execution_count": 202,
   "id": "fdc7a47e-4b33-415e-88b4-46f83afb38ad",
   "metadata": {},
   "outputs": [],
   "source": [
    "g = {\n",
    "    1 : [2,3],\n",
    "    2 : [1,4,5],\n",
    "    3 : [1],\n",
    "    4 : [2],\n",
    "    5 : [2]\n",
    "}"
   ]
  },
  {
   "cell_type": "code",
   "execution_count": 203,
   "id": "b35abe14-8e39-4bd0-be57-502f2f46e428",
   "metadata": {},
   "outputs": [
    {
     "name": "stdout",
     "output_type": "stream",
     "text": [
      "1\n",
      "2\n",
      "3\n",
      "4\n",
      "5\n"
     ]
    }
   ],
   "source": [
    "bfs(g,1)"
   ]
  },
  {
   "cell_type": "code",
   "execution_count": null,
   "id": "4ecf41b1-950a-4fc6-8325-ef7bc1dfe3f8",
   "metadata": {},
   "outputs": [],
   "source": []
  }
 ],
 "metadata": {
  "kernelspec": {
   "display_name": "Python 3 (ipykernel)",
   "language": "python",
   "name": "python3"
  },
  "language_info": {
   "codemirror_mode": {
    "name": "ipython",
    "version": 3
   },
   "file_extension": ".py",
   "mimetype": "text/x-python",
   "name": "python",
   "nbconvert_exporter": "python",
   "pygments_lexer": "ipython3",
   "version": "3.11.7"
  }
 },
 "nbformat": 4,
 "nbformat_minor": 5
}
