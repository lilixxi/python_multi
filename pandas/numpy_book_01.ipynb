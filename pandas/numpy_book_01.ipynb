{
 "cells": [
  {
   "cell_type": "code",
   "execution_count": 4,
   "metadata": {},
   "outputs": [],
   "source": [
    "import numpy as np\n",
    "import pandas as pd"
   ]
  },
  {
   "cell_type": "code",
   "execution_count": 5,
   "metadata": {},
   "outputs": [
    {
     "name": "stdout",
     "output_type": "stream",
     "text": [
      "[0, 1, 2, 3, 4, 5, 6, 7, 8, 9] <class 'list'>\n"
     ]
    }
   ],
   "source": [
    "# 배열만들기\n",
    "#리스트 배열 만들기\n",
    "ls1 = list(range(10))\n",
    "print(ls1,type(ls1))"
   ]
  },
  {
   "cell_type": "code",
   "execution_count": 6,
   "metadata": {},
   "outputs": [
    {
     "name": "stdout",
     "output_type": "stream",
     "text": [
      "[1 2 3 4 5] <class 'numpy.ndarray'>\n",
      "[1 2 3 4 5] int64\n",
      "[3.  1.4 2.  3.  4.  5. ] float64\n",
      "[[1 2]\n",
      " [3 4]]\n",
      "[1. 2. 3. 4.] float64\n"
     ]
    }
   ],
   "source": [
    "# array 배열 만들기\n",
    "arr1 = np.array(range(1,6))\n",
    "print(arr1,type(arr1))\n",
    "arr2 = np.array([1,2,3,4,5])\n",
    "print(arr2,arr2.dtype)\n",
    "arr3 = np.array([3,1.4,2,3,4,5]) #소수가 있는 경우\n",
    "print(arr3,arr3.dtype) #넘파이의 array 는 단일 데이터 타입이다\n",
    "arr4 = np.array([ [1,2], [3,4]])\n",
    "print(arr4)\n",
    "arr5 = np.array( [1,2,3,4], dtype=float) #dtype 변환\n",
    "print(arr5,arr5.dtype)"
   ]
  },
  {
   "cell_type": "code",
   "execution_count": 7,
   "metadata": {},
   "outputs": [
    {
     "name": "stdout",
     "output_type": "stream",
     "text": [
      "[1. 2. 3. 4.] float64\n",
      "float64\n"
     ]
    }
   ],
   "source": [
    "# dtype / astype : change the type\n",
    "arr1 = np.array([1,2,3,4],dtype=float)\n",
    "print(arr1,arr1.dtype)\n",
    "arr1.astype(float)\n",
    "print(arr1.dtype)"
   ]
  },
  {
   "cell_type": "code",
   "execution_count": 8,
   "metadata": {},
   "outputs": [
    {
     "name": "stdout",
     "output_type": "stream",
     "text": [
      "[0 0 0 0 0 0 0 0 0 0]\n",
      "[[1. 1. 1. 1. 1.]\n",
      " [1. 1. 1. 1. 1.]\n",
      " [1. 1. 1. 1. 1.]]\n",
      "[ 0  2  4  6  8 10 12 14 16 18]\n",
      "[0.   0.25 0.5  0.75 1.  ]\n"
     ]
    }
   ],
   "source": [
    "# zeros . ones . arrange . linspace\n",
    "print(np.zeros(10,dtype=int))\n",
    "print(np.ones( (3,5), dtype=float))\n",
    "print(np.arange(0,20,2))\n",
    "print(np.linspace(0,1,5))"
   ]
  },
  {
   "cell_type": "code",
   "execution_count": 9,
   "metadata": {},
   "outputs": [
    {
     "name": "stdout",
     "output_type": "stream",
     "text": [
      "[[0.32196    0.94646426 0.51806852]\n",
      " [0.80704361 0.5831643  0.87562628]]\n",
      "[[-1.01163118 -4.43367163]\n",
      " [-3.03961501 -2.36800541]]\n",
      "[[5 7]\n",
      " [8 7]]\n"
     ]
    }
   ],
   "source": [
    "print(np.random.random( (2,3)))\n",
    "print( np.random.normal(0,2, (2,2))) # mean, std, array\n",
    "print( np.random.randint(0,10, (2,2))) # start , stop , array"
   ]
  },
  {
   "cell_type": "code",
   "execution_count": 10,
   "metadata": {},
   "outputs": [
    {
     "name": "stdout",
     "output_type": "stream",
     "text": [
      "[[0.86100805 0.57310263]\n",
      " [0.90942301 0.52633336]]\n",
      "[[0.90132727 0.99384424]\n",
      " [0.58837733 0.52941996]]\n"
     ]
    }
   ],
   "source": [
    "# random vs rand ?\n",
    "# 0~1 사이에 난수 생성 \n",
    "print(np.random.random( (2,2))) # 형태를 받는다 \n",
    "print(np.random.rand(2,2)) # 직접 차원을 인수를 넣어준다 "
   ]
  },
  {
   "cell_type": "code",
   "execution_count": 11,
   "metadata": {},
   "outputs": [
    {
     "name": "stdout",
     "output_type": "stream",
     "text": [
      "2\n",
      "(3, 4)\n",
      "12\n",
      "int64\n"
     ]
    }
   ],
   "source": [
    "# dim , shape , size ,dtype \n",
    "x = np.random.randint(10,size=(3,4))\n",
    "print(x.ndim) #차원 수 dimension\n",
    "print(x.shape) #배열 \n",
    "print(x.size) #요소의 수\n",
    "print(x.dtype) # 데이터 타입"
   ]
  },
  {
   "cell_type": "code",
   "execution_count": 12,
   "metadata": {},
   "outputs": [
    {
     "name": "stdout",
     "output_type": "stream",
     "text": [
      "[0 1 2 3 4 5 6]\n",
      "3\n",
      "6\n",
      "0\n",
      "[100   1   2   3   4   5   6]\n"
     ]
    }
   ],
   "source": [
    "# indexing\n",
    "x = np.arange(7)\n",
    "print(x)\n",
    "print(x[3])\n",
    "print(x[-1])\n",
    "print(x[0])\n",
    "x[0] = 100 # 인덱스를 이용해 값을 치환할 수 도 있다 \n",
    "print(x)"
   ]
  },
  {
   "cell_type": "code",
   "execution_count": 13,
   "metadata": {},
   "outputs": [
    {
     "name": "stdout",
     "output_type": "stream",
     "text": [
      "[0 1 2 3 4 5 6]\n",
      "[1 2 3]\n",
      "[0 1 2 3]\n",
      "[2 3 4 5 6]\n",
      "[0 2 4 6]\n",
      "[6 5 4 3 2 1 0]\n"
     ]
    }
   ],
   "source": [
    "# slicing \n",
    "x = np.arange(7)\n",
    "print(x)\n",
    "print(x[1:4])\n",
    "print(x[:4])\n",
    "print(x[2:])\n",
    "print(x[::2])\n",
    "print(x[::-1])"
   ]
  },
  {
   "cell_type": "code",
   "execution_count": 14,
   "metadata": {},
   "outputs": [
    {
     "name": "stdout",
     "output_type": "stream",
     "text": [
      "[[0 1 2 3]\n",
      " [4 5 6 7]] (2, 4)\n",
      "[0 1 2 3 4 5 6 7] (8,)\n"
     ]
    }
   ],
   "source": [
    "# reshape \n",
    "x = np.arange(8)\n",
    "x =x.reshape(2,-1)\n",
    "print(x,x.shape)\n",
    "x = x.flatten() #다시 하나의 배열로\n",
    "print(x,x.shape)"
   ]
  },
  {
   "cell_type": "code",
   "execution_count": 15,
   "metadata": {},
   "outputs": [
    {
     "data": {
      "text/plain": [
       "array([0, 1, 2, 3, 4, 5])"
      ]
     },
     "execution_count": 15,
     "metadata": {},
     "output_type": "execute_result"
    }
   ],
   "source": [
    "# concatenate\n",
    "x1 = np.arange(3)\n",
    "x2 = np.arange(3,6)\n",
    "np.concatenate([x1,x2]) # 이어붙여준다 "
   ]
  },
  {
   "cell_type": "code",
   "execution_count": null,
   "metadata": {},
   "outputs": [],
   "source": []
  },
  {
   "cell_type": "code",
   "execution_count": null,
   "metadata": {},
   "outputs": [],
   "source": []
  }
 ],
 "metadata": {
  "interpreter": {
   "hash": "40d3a090f54c6569ab1632332b64b2c03c39dcf918b08424e98f38b5ae0af88f"
  },
  "kernelspec": {
   "display_name": "Python 3.11.7 ('base')",
   "language": "python",
   "name": "python3"
  },
  "language_info": {
   "codemirror_mode": {
    "name": "ipython",
    "version": 3
   },
   "file_extension": ".py",
   "mimetype": "text/x-python",
   "name": "python",
   "nbconvert_exporter": "python",
   "pygments_lexer": "ipython3",
   "version": "3.11.7"
  },
  "orig_nbformat": 4
 },
 "nbformat": 4,
 "nbformat_minor": 2
}
