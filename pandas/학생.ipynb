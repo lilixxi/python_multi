{
 "cells": [
  {
   "cell_type": "code",
   "execution_count": 2,
   "metadata": {},
   "outputs": [
    {
     "name": "stdout",
     "output_type": "stream",
     "text": [
      "{'팀 1': ['김율희', '이가희', '정사라', '김지우', '성수린'], '팀 2': ['이예진', '남수형', '남학균', '박소현', '김선규'], '팀 3': ['임태수', '김성원', '최인우', '박태영', '김현우'], '팀 4': ['박민석', '김건우', '이의준', '예동완', '김원']}\n",
      "이가희 님의 소속은 팀 1 입니다\n"
     ]
    }
   ],
   "source": [
    "import numpy as np\n",
    "import pandas as pd\n",
    "import random\n",
    "\n",
    "path = '/Users/leegahee/git_folder/python_multi/pandas/students.csv' \n",
    "df = pd.read_csv(path,encoding='cp949').reset_index(drop=True)\n",
    "name = df['성함'].tolist()\n",
    "\n",
    "\n",
    "def making_team(lst):\n",
    "    teams = []\n",
    "    team_dict = {}\n",
    "    random.seed(100)\n",
    "\n",
    "    for i in range(4):\n",
    "        team = random.sample(lst,5)\n",
    "        team_dict[f'팀 {i+1}'] = team\n",
    "        for j in team :\n",
    "            lst.remove(j)\n",
    "        \n",
    "    \n",
    "        \n",
    "    return team_dict\n",
    "   \n",
    "\n",
    "def find_my_team(team_dict,my_name):\n",
    "    for k,v in team_dict.items() :\n",
    "        if my_name in v :  \n",
    "            print(f'{my_name} 님의 소속은 {k} 입니다')\n",
    "\n",
    "# 팀 확인 코드 \n",
    "team_dict = making_team(name)\n",
    "print(team_dict)\n",
    "# 이름으로 팀 찾기\n",
    "find_my_team(team_dict,'이가희')\n",
    "\n"
   ]
  },
  {
   "cell_type": "code",
   "execution_count": null,
   "metadata": {},
   "outputs": [],
   "source": []
  },
  {
   "cell_type": "code",
   "execution_count": null,
   "metadata": {},
   "outputs": [],
   "source": []
  }
 ],
 "metadata": {
  "interpreter": {
   "hash": "40d3a090f54c6569ab1632332b64b2c03c39dcf918b08424e98f38b5ae0af88f"
  },
  "kernelspec": {
   "display_name": "Python 3.11.7 ('base')",
   "language": "python",
   "name": "python3"
  },
  "language_info": {
   "codemirror_mode": {
    "name": "ipython",
    "version": 3
   },
   "file_extension": ".py",
   "mimetype": "text/x-python",
   "name": "python",
   "nbconvert_exporter": "python",
   "pygments_lexer": "ipython3",
   "version": "3.11.7"
  },
  "orig_nbformat": 4
 },
 "nbformat": 4,
 "nbformat_minor": 2
}
