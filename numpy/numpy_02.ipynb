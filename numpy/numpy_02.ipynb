{
 "cells": [
  {
   "cell_type": "code",
   "execution_count": 3,
   "metadata": {},
   "outputs": [
    {
     "name": "stdout",
     "output_type": "stream",
     "text": [
      "Package                           Version\n",
      "--------------------------------- ------------\n",
      "aiobotocore                       2.7.0\n",
      "aiohttp                           3.9.3\n",
      "aioitertools                      0.7.1\n",
      "aiosignal                         1.2.0\n",
      "alabaster                         0.7.12\n",
      "altair                            5.0.1\n",
      "anaconda-anon-usage               0.4.3\n",
      "anaconda-catalogs                 0.2.0\n",
      "anaconda-client                   1.12.3\n",
      "anaconda-cloud-auth               0.1.4\n",
      "anaconda-navigator                2.5.3\n",
      "anaconda-project                  0.11.1\n",
      "anyio                             4.2.0\n",
      "appdirs                           1.4.4\n",
      "applaunchservices                 0.3.0\n",
      "appnope                           0.1.2\n",
      "appscript                         1.1.2\n",
      "archspec                          0.2.3\n",
      "argon2-cffi                       21.3.0\n",
      "argon2-cffi-bindings              21.2.0\n",
      "arrow                             1.2.3\n",
      "astroid                           2.14.2\n",
      "astropy                           5.3.4\n",
      "asttokens                         2.0.5\n",
      "async-lru                         2.0.4\n",
      "atomicwrites                      1.4.0\n",
      "attrs                             23.2.0\n",
      "Automat                           20.2.0\n",
      "autopep8                          1.6.0\n",
      "Babel                             2.11.0\n",
      "backports.functools-lru-cache     1.6.4\n",
      "backports.tempfile                1.0\n",
      "backports.weakref                 1.0.post1\n",
      "bcrypt                            3.2.0\n",
      "beautifulsoup4                    4.12.2\n",
      "binaryornot                       0.4.4\n",
      "black                             23.11.0\n",
      "bleach                            4.1.0\n",
      "blinker                           1.6.2\n",
      "bokeh                             3.3.4\n",
      "boltons                           23.0.0\n",
      "botocore                          1.31.64\n",
      "Bottleneck                        1.3.7\n",
      "Brotli                            1.0.9\n",
      "cachetools                        4.2.2\n",
      "certifi                           2024.2.2\n",
      "cffi                              1.16.0\n",
      "chardet                           4.0.0\n",
      "charset-normalizer                2.0.4\n",
      "click                             8.1.7\n",
      "cloudpickle                       2.2.1\n",
      "clyent                            1.2.2\n",
      "colorama                          0.4.6\n",
      "colorcet                          3.0.1\n",
      "comm                              0.1.2\n",
      "conda                             24.3.0\n",
      "conda-build                       24.1.2\n",
      "conda-content-trust               0.2.0\n",
      "conda_index                       0.4.0\n",
      "conda-libmamba-solver             24.1.0\n",
      "conda-pack                        0.6.0\n",
      "conda-package-handling            2.2.0\n",
      "conda_package_streaming           0.9.0\n",
      "conda-repo-cli                    1.0.75\n",
      "conda-token                       0.4.0\n",
      "conda-verify                      3.4.2\n",
      "constantly                        23.10.4\n",
      "contourpy                         1.2.0\n",
      "cookiecutter                      2.5.0\n",
      "cryptography                      42.0.2\n",
      "cssselect                         1.2.0\n",
      "cycler                            0.11.0\n",
      "cytoolz                           0.12.2\n",
      "dask                              2023.11.0\n",
      "datashader                        0.16.0\n",
      "debugpy                           1.6.7\n",
      "decorator                         5.1.1\n",
      "defusedxml                        0.7.1\n",
      "diff-match-patch                  20200713\n",
      "dill                              0.3.7\n",
      "distributed                       2023.11.0\n",
      "distro                            1.8.0\n",
      "docstring-to-markdown             0.11\n",
      "docutils                          0.18.1\n",
      "entrypoints                       0.4\n",
      "et-xmlfile                        1.1.0\n",
      "executing                         0.8.3\n",
      "fastjsonschema                    2.16.2\n",
      "filelock                          3.13.1\n",
      "flake8                            6.0.0\n",
      "Flask                             2.2.5\n",
      "fonttools                         4.25.0\n",
      "fqdn                              1.5.1\n",
      "frozenlist                        1.4.0\n",
      "fsspec                            2023.10.0\n",
      "future                            0.18.3\n",
      "gensim                            4.3.0\n",
      "gitdb                             4.0.7\n",
      "GitPython                         3.1.37\n",
      "gmpy2                             2.1.2\n",
      "greenlet                          3.0.1\n",
      "h11                               0.14.0\n",
      "h5py                              3.9.0\n",
      "HeapDict                          1.0.1\n",
      "holoviews                         1.18.3\n",
      "httpcore                          1.0.4\n",
      "httpx                             0.27.0\n",
      "hvplot                            0.9.2\n",
      "hyperlink                         21.0.0\n",
      "idna                              3.4\n",
      "imagecodecs                       2023.1.23\n",
      "imageio                           2.33.1\n",
      "imagesize                         1.4.1\n",
      "imbalanced-learn                  0.11.0\n",
      "importlib-metadata                7.0.1\n",
      "incremental                       22.10.0\n",
      "inflection                        0.5.1\n",
      "iniconfig                         1.1.1\n",
      "intake                            0.6.8\n",
      "intervaltree                      3.1.0\n",
      "ipykernel                         6.28.0\n",
      "ipython                           8.20.0\n",
      "ipython-genutils                  0.2.0\n",
      "ipywidgets                        7.6.5\n",
      "isoduration                       20.11.0\n",
      "isort                             5.9.3\n",
      "itemadapter                       0.3.0\n",
      "itemloaders                       1.1.0\n",
      "itsdangerous                      2.0.1\n",
      "jaraco.classes                    3.2.1\n",
      "jedi                              0.18.1\n",
      "jellyfish                         1.0.1\n",
      "Jinja2                            3.1.3\n",
      "jmespath                          1.0.1\n",
      "joblib                            1.2.0\n",
      "json5                             0.9.6\n",
      "jsonpatch                         1.32\n",
      "jsonpointer                       2.1\n",
      "jsonschema                        4.19.2\n",
      "jsonschema-specifications         2023.7.1\n",
      "jupyter                           1.0.0\n",
      "jupyter_client                    8.6.0\n",
      "jupyter-console                   6.6.3\n",
      "jupyter_core                      5.5.0\n",
      "jupyter-events                    0.8.0\n",
      "jupyter-lsp                       2.2.0\n",
      "jupyter_server                    2.10.0\n",
      "jupyter_server_terminals          0.4.4\n",
      "jupyterlab                        4.1.5\n",
      "jupyterlab-pygments               0.1.2\n",
      "jupyterlab_server                 2.25.1\n",
      "jupyterlab-widgets                3.0.9\n",
      "jupyterthemes                     0.20.0\n",
      "keyring                           23.13.1\n",
      "kiwisolver                        1.4.4\n",
      "lazy_loader                       0.3\n",
      "lazy-object-proxy                 1.6.0\n",
      "lckr_jupyterlab_variableinspector 3.1.0\n",
      "lesscpy                           0.15.1\n",
      "libarchive-c                      2.9\n",
      "libmambapy                        1.5.6\n",
      "linkify-it-py                     2.0.0\n",
      "llvmlite                          0.42.0\n",
      "lmdb                              1.4.1\n",
      "locket                            1.0.0\n",
      "lxml                              4.9.3\n",
      "lz4                               4.3.2\n",
      "Markdown                          3.4.1\n",
      "markdown-it-py                    2.2.0\n",
      "MarkupSafe                        2.1.3\n",
      "matplotlib                        3.8.0\n",
      "matplotlib-inline                 0.1.6\n",
      "mccabe                            0.7.0\n",
      "mdit-py-plugins                   0.3.0\n",
      "mdurl                             0.1.0\n",
      "menuinst                          2.0.2\n",
      "mistune                           2.0.4\n",
      "more-itertools                    10.1.0\n",
      "mpmath                            1.3.0\n",
      "msgpack                           1.0.3\n",
      "multidict                         6.0.4\n",
      "multipledispatch                  0.6.0\n",
      "munkres                           1.1.4\n",
      "mypy                              1.8.0\n",
      "mypy-extensions                   1.0.0\n",
      "navigator-updater                 0.4.0\n",
      "nbclient                          0.8.0\n",
      "nbconvert                         7.10.0\n",
      "nbformat                          5.9.2\n",
      "nest-asyncio                      1.6.0\n",
      "networkx                          3.1\n",
      "nltk                              3.8.1\n",
      "notebook                          7.1.2\n",
      "notebook_shim                     0.2.3\n",
      "numba                             0.59.0\n",
      "numexpr                           2.8.7\n",
      "numpy                             1.26.4\n",
      "numpydoc                          1.5.0\n",
      "openpyxl                          3.0.10\n",
      "outcome                           1.3.0.post0\n",
      "overrides                         7.4.0\n",
      "packaging                         23.1\n",
      "pandas                            2.1.4\n",
      "pandocfilters                     1.5.0\n",
      "panel                             1.3.8\n",
      "param                             2.0.2\n",
      "parsel                            1.8.1\n",
      "parso                             0.8.3\n",
      "partd                             1.4.1\n",
      "pathlib                           1.0.1\n",
      "pathspec                          0.10.3\n",
      "patsy                             0.5.3\n",
      "pexpect                           4.8.0\n",
      "pickleshare                       0.7.5\n",
      "pillow                            10.2.0\n",
      "pip                               23.3.1\n",
      "pkce                              1.0.3\n",
      "pkginfo                           1.9.6\n",
      "platformdirs                      3.10.0\n",
      "plotly                            5.9.0\n",
      "pluggy                            1.0.0\n",
      "ply                               3.11\n",
      "prometheus-client                 0.14.1\n",
      "prompt-toolkit                    3.0.43\n",
      "Protego                           0.1.16\n",
      "protobuf                          3.20.3\n",
      "psutil                            5.9.0\n",
      "ptyprocess                        0.7.0\n",
      "pure-eval                         0.2.2\n",
      "py-cpuinfo                        9.0.0\n",
      "pyarrow                           14.0.2\n",
      "pyasn1                            0.4.8\n",
      "pyasn1-modules                    0.2.8\n",
      "pycodestyle                       2.10.0\n",
      "pycosat                           0.6.6\n",
      "pycparser                         2.21\n",
      "pyct                              0.5.0\n",
      "pycurl                            7.45.2\n",
      "pydantic                          1.10.12\n",
      "pydeck                            0.8.0\n",
      "PyDispatcher                      2.0.5\n",
      "pydocstyle                        6.3.0\n",
      "pyerfa                            2.0.0\n",
      "pyflakes                          3.0.1\n",
      "Pygments                          2.15.1\n",
      "PyJWT                             2.4.0\n",
      "pylint                            2.16.2\n",
      "pylint-venv                       2.3.0\n",
      "pyls-spyder                       0.4.0\n",
      "pyobjc-core                       9.0\n",
      "pyobjc-framework-Cocoa            9.0\n",
      "pyobjc-framework-CoreServices     9.0\n",
      "pyobjc-framework-FSEvents         9.0\n",
      "pyodbc                            5.0.1\n",
      "pyOpenSSL                         24.0.0\n",
      "pyparsing                         3.0.9\n",
      "PyQt5                             5.15.10\n",
      "PyQt5-sip                         12.13.0\n",
      "PyQtWebEngine                     5.15.6\n",
      "PySocks                           1.7.1\n",
      "pytest                            7.4.0\n",
      "python-dateutil                   2.8.2\n",
      "python-dotenv                     0.21.0\n",
      "python-json-logger                2.0.7\n",
      "python-lsp-black                  1.2.1\n",
      "python-lsp-jsonrpc                1.0.0\n",
      "python-lsp-server                 1.7.2\n",
      "python-slugify                    5.0.2\n",
      "python-snappy                     0.6.1\n",
      "pytoolconfig                      1.2.6\n",
      "pytz                              2023.3.post1\n",
      "pyviz_comms                       3.0.0\n",
      "pywavelets                        1.5.0\n",
      "PyYAML                            6.0.1\n",
      "pyzmq                             25.1.2\n",
      "QDarkStyle                        3.0.2\n",
      "qstylizer                         0.2.2\n",
      "QtAwesome                         1.2.2\n",
      "qtconsole                         5.4.2\n",
      "QtPy                              2.4.1\n",
      "queuelib                          1.6.2\n",
      "referencing                       0.30.2\n",
      "regex                             2023.10.3\n",
      "requests                          2.31.0\n",
      "requests-file                     1.5.1\n",
      "requests-toolbelt                 1.0.0\n",
      "rfc3339-validator                 0.1.4\n",
      "rfc3986-validator                 0.1.1\n",
      "rich                              13.3.5\n",
      "rope                              1.7.0\n",
      "rpds-py                           0.10.6\n",
      "Rtree                             1.0.1\n",
      "ruamel.yaml                       0.17.21\n",
      "ruamel-yaml-conda                 0.17.21\n",
      "s3fs                              2023.10.0\n",
      "scikit-image                      0.22.0\n",
      "scikit-learn                      1.2.2\n",
      "scipy                             1.11.4\n",
      "Scrapy                            2.8.0\n",
      "seaborn                           0.12.2\n",
      "selenium                          4.12.0\n",
      "semver                            2.13.0\n",
      "Send2Trash                        1.8.2\n",
      "service-identity                  18.1.0\n",
      "setuptools                        68.2.2\n",
      "sip                               6.7.12\n",
      "six                               1.16.0\n",
      "smart-open                        5.2.1\n",
      "smmap                             4.0.0\n",
      "sniffio                           1.3.0\n",
      "snowballstemmer                   2.2.0\n",
      "sortedcontainers                  2.4.0\n",
      "soupsieve                         2.5\n",
      "Sphinx                            5.0.2\n",
      "sphinxcontrib-applehelp           1.0.2\n",
      "sphinxcontrib-devhelp             1.0.2\n",
      "sphinxcontrib-htmlhelp            2.0.0\n",
      "sphinxcontrib-jsmath              1.0.1\n",
      "sphinxcontrib-qthelp              1.0.3\n",
      "sphinxcontrib-serializinghtml     1.1.5\n",
      "spyder                            5.4.3\n",
      "spyder-kernels                    2.4.4\n",
      "SQLAlchemy                        2.0.25\n",
      "stack-data                        0.2.0\n",
      "statsmodels                       0.14.0\n",
      "streamlit                         1.30.0\n",
      "sympy                             1.12\n",
      "tables                            3.9.2\n",
      "tabulate                          0.9.0\n",
      "tblib                             1.7.0\n",
      "tenacity                          8.2.2\n",
      "terminado                         0.17.1\n",
      "text-unidecode                    1.3\n",
      "textdistance                      4.2.1\n",
      "threadpoolctl                     2.2.0\n",
      "three-merge                       0.1.1\n",
      "tifffile                          2023.4.12\n",
      "tinycss2                          1.2.1\n",
      "tldextract                        3.2.0\n",
      "toml                              0.10.2\n",
      "tomlkit                           0.11.1\n",
      "toolz                             0.12.0\n",
      "tornado                           6.3.3\n",
      "tqdm                              4.65.0\n",
      "traitlets                         5.7.1\n",
      "trio                              0.25.0\n",
      "trio-websocket                    0.11.1\n",
      "truststore                        0.8.0\n",
      "Twisted                           23.10.0\n",
      "typing_extensions                 4.9.0\n",
      "tzdata                            2023.3\n",
      "tzlocal                           2.1\n",
      "uc-micro-py                       1.0.1\n",
      "ujson                             5.4.0\n",
      "Unidecode                         1.2.0\n",
      "uri-template                      1.3.0\n",
      "urllib3                           2.0.7\n",
      "validators                        0.18.2\n",
      "w3lib                             2.1.2\n",
      "watchdog                          2.1.6\n",
      "wcwidth                           0.2.5\n",
      "webcolors                         1.13\n",
      "webencodings                      0.5.1\n",
      "websocket-client                  0.58.0\n",
      "Werkzeug                          2.2.3\n",
      "whatthepatch                      1.0.2\n",
      "wheel                             0.41.2\n",
      "widgetsnbextension                3.5.2\n",
      "wrapt                             1.14.1\n",
      "wsproto                           1.2.0\n",
      "wurlitzer                         3.0.2\n",
      "xarray                            2023.6.0\n",
      "xlwings                           0.29.1\n",
      "xyzservices                       2022.9.0\n",
      "yapf                              0.31.0\n",
      "yarl                              1.9.3\n",
      "zict                              3.0.0\n",
      "zipp                              3.17.0\n",
      "zope.interface                    5.4.0\n",
      "zstandard                         0.19.0\n"
     ]
    }
   ],
   "source": [
    "!pip list "
   ]
  },
  {
   "cell_type": "code",
   "execution_count": 2,
   "metadata": {},
   "outputs": [],
   "source": [
    "import numpy as np\n",
    "import pandas as pd"
   ]
  },
  {
   "cell_type": "code",
   "execution_count": 4,
   "metadata": {},
   "outputs": [
    {
     "data": {
      "text/plain": [
       "(array([1, 2, 3, 4, 5]),\n",
       " array([[1, 2, 3],\n",
       "        [4, 5, 6]]))"
      ]
     },
     "execution_count": 4,
     "metadata": {},
     "output_type": "execute_result"
    }
   ],
   "source": [
    "arr1 = np.array([1,2,3,4,5])\n",
    "arr2 = np.array([[1,2,3],[4,5,6]])\n",
    "arr1, arr2"
   ]
  },
  {
   "cell_type": "code",
   "execution_count": 6,
   "metadata": {},
   "outputs": [
    {
     "data": {
      "text/plain": [
       "(array([-0.14680707,  0.10328271, -0.73083496]),\n",
       " array([[ 0.50696967,  0.7512807 , -0.6348419 ],\n",
       "        [ 2.05522416, -0.98077556,  0.4025814 ]]))"
      ]
     },
     "execution_count": 6,
     "metadata": {},
     "output_type": "execute_result"
    }
   ],
   "source": [
    "# 난수 이용한 2차원 배열 \n",
    "# randn() : random + normal distribution\n",
    "arr3 = np.random.randn(3)\n",
    "arr4 = np.random.randn(2,3)\n",
    "\n",
    "arr3,arr4"
   ]
  },
  {
   "cell_type": "code",
   "execution_count": 8,
   "metadata": {},
   "outputs": [
    {
     "data": {
      "text/plain": [
       "(array([0., 0., 0., 0., 0.]),\n",
       " array([[1., 1., 1.],\n",
       "        [1., 1., 1.]]))"
      ]
     },
     "execution_count": 8,
     "metadata": {},
     "output_type": "execute_result"
    }
   ],
   "source": [
    "arr5 = np.zeros(5)\n",
    "arr6 = np.ones((2,3))\n",
    "\n",
    "arr5,arr6"
   ]
  },
  {
   "cell_type": "code",
   "execution_count": 13,
   "metadata": {},
   "outputs": [
    {
     "data": {
      "text/plain": [
       "array([ 20,  30,  40,  50,  60,  70,  80,  90, 100, 110, 120, 130, 140,\n",
       "       150, 160, 170, 180, 190])"
      ]
     },
     "execution_count": 13,
     "metadata": {},
     "output_type": "execute_result"
    }
   ],
   "source": [
    "# arange() : array(배열) + range(범위)\n",
    "# arange(start, end, step)\n",
    "\n",
    "arr7 = np.arange(20,200,10)\n",
    "arr7"
   ]
  },
  {
   "cell_type": "code",
   "execution_count": 17,
   "metadata": {},
   "outputs": [
    {
     "name": "stdout",
     "output_type": "stream",
     "text": [
      "18\n"
     ]
    },
    {
     "data": {
      "text/plain": [
       "array([[ 20,  30,  40,  50,  60,  70],\n",
       "       [ 80,  90, 100, 110, 120, 130],\n",
       "       [140, 150, 160, 170, 180, 190]])"
      ]
     },
     "execution_count": 17,
     "metadata": {},
     "output_type": "execute_result"
    }
   ],
   "source": [
    "# reshape()\n",
    "\n",
    "print(len(arr7))\n",
    "arr8 = arr7.reshape(3,-1)\n",
    "arr8"
   ]
  },
  {
   "cell_type": "code",
   "execution_count": 28,
   "metadata": {},
   "outputs": [
    {
     "name": "stdout",
     "output_type": "stream",
     "text": [
      "20\n",
      "[[ 1  2  3  4  5]\n",
      " [ 6  7  8  9 10]\n",
      " [11 12 13 14 15]\n",
      " [16 17 18 19 20]] (4, 5)\n",
      "16 [16 17 18 19 20]\n"
     ]
    }
   ],
   "source": [
    "# 배열 \n",
    "print(len(arr9))\n",
    "arr9 = np.arange(1,21)\n",
    "arr9,arr9[1]\n",
    "arr10 = arr9.reshape(4,-1)\n",
    "print(arr10,arr10.shape)\n",
    "print(arr10[3,0],arr10[3])"
   ]
  },
  {
   "cell_type": "code",
   "execution_count": 29,
   "metadata": {},
   "outputs": [
    {
     "data": {
      "text/plain": [
       "array([[  1,   2,   3,   4,   5],\n",
       "       [  6,   7,   8,   9,  10],\n",
       "       [ 11,  12,  13,  14,  15],\n",
       "       [116,  17,  18,  19,  20]])"
      ]
     },
     "execution_count": 29,
     "metadata": {},
     "output_type": "execute_result"
    }
   ],
   "source": [
    "arr10[3,0] = 116\n",
    "arr10"
   ]
  },
  {
   "cell_type": "code",
   "execution_count": 31,
   "metadata": {},
   "outputs": [
    {
     "data": {
      "text/plain": [
       "array([ 4,  5,  6,  7,  8,  9, 10, 11, 12, 13])"
      ]
     },
     "execution_count": 31,
     "metadata": {},
     "output_type": "execute_result"
    }
   ],
   "source": [
    "# broadcasting : 각 원소에 적용 \n",
    "\n",
    "arr11 = np.arange(1,11,1)\n",
    "arr11 =arr11 + 3 \n",
    "arr11"
   ]
  },
  {
   "cell_type": "code",
   "execution_count": 37,
   "metadata": {},
   "outputs": [
    {
     "name": "stdout",
     "output_type": "stream",
     "text": [
      "[[ 5  7  9]\n",
      " [-7  6 19]\n",
      " [ 6  9 11]]\n",
      "sum : 65\n",
      "mean : 7.222222222222222\n",
      "max : 19\n"
     ]
    }
   ],
   "source": [
    "# 배열의 통계 메소드 \n",
    "\n",
    "arr1 = np.array([ [5,7,9], [-7,6,19], [6,9,11] ])\n",
    "print(arr1)\n",
    "print('sum :',arr1.sum())\n",
    "print('mean :',arr1.mean())\n",
    "print('max :',arr1.max())"
   ]
  },
  {
   "cell_type": "code",
   "execution_count": 43,
   "metadata": {},
   "outputs": [
    {
     "name": "stdout",
     "output_type": "stream",
     "text": [
      "[[ 5  7  9]\n",
      " [-7  6 19]\n",
      " [ 6  9 11]]\n",
      "\n",
      "[ 6  9 19]\n",
      "\n",
      "[ 9 19 11]\n"
     ]
    }
   ],
   "source": [
    "# axis : 배열의 축 지정 \n",
    "\n",
    "print(arr1)\n",
    "print()\n",
    "print(arr1.max(axis=0))\n",
    "print()\n",
    "print(arr1.max(axis=1))"
   ]
  },
  {
   "cell_type": "code",
   "execution_count": 44,
   "metadata": {},
   "outputs": [
    {
     "data": {
      "text/plain": [
       "array([[ True,  True,  True],\n",
       "       [False,  True,  True],\n",
       "       [ True,  True,  True]])"
      ]
     },
     "execution_count": 44,
     "metadata": {},
     "output_type": "execute_result"
    }
   ],
   "source": [
    "# 조건식을 사용한 연산\n",
    "\n",
    "arr1 > 0"
   ]
  },
  {
   "cell_type": "code",
   "execution_count": 45,
   "metadata": {},
   "outputs": [
    {
     "data": {
      "text/plain": [
       "array([[False, False, False],\n",
       "       [ True, False, False],\n",
       "       [False, False, False]])"
      ]
     },
     "execution_count": 45,
     "metadata": {},
     "output_type": "execute_result"
    }
   ],
   "source": [
    "arr1 < 0"
   ]
  },
  {
   "cell_type": "code",
   "execution_count": 47,
   "metadata": {},
   "outputs": [
    {
     "data": {
      "text/plain": [
       "array([ 7,  9,  6, 19,  6,  9, 11])"
      ]
     },
     "execution_count": 47,
     "metadata": {},
     "output_type": "execute_result"
    }
   ],
   "source": [
    "arr1[arr1 > 5]"
   ]
  },
  {
   "cell_type": "code",
   "execution_count": 49,
   "metadata": {},
   "outputs": [
    {
     "data": {
      "text/plain": [
       "8"
      ]
     },
     "execution_count": 49,
     "metadata": {},
     "output_type": "execute_result"
    }
   ],
   "source": [
    "# true 의 개수 반환\n",
    "(arr1 > 3).sum()"
   ]
  },
  {
   "cell_type": "code",
   "execution_count": 53,
   "metadata": {},
   "outputs": [
    {
     "data": {
      "text/plain": [
       "array([[ 5,  7,  9],\n",
       "       [ 0,  6, 19],\n",
       "       [ 6,  9, 11]])"
      ]
     },
     "execution_count": 53,
     "metadata": {},
     "output_type": "execute_result"
    }
   ],
   "source": [
    "# np.where\n",
    "# 조건 : arr1 보다 작으면 / 참일때 반환값: 0 / 거짓일때 반환값: arr \n",
    "# 값을 치환할때 사용할수도 있을듯 \n",
    "# ex) - 값을 치환할때 \n",
    "\n",
    "np.where( arr1 < 0, 0, arr1)"
   ]
  },
  {
   "cell_type": "code",
   "execution_count": 59,
   "metadata": {},
   "outputs": [
    {
     "name": "stdout",
     "output_type": "stream",
     "text": [
      "[[ 5  7  9]\n",
      " [-3  6 19]\n",
      " [ 6  4 11]]\n",
      "[[-3  4  9]\n",
      " [ 5  6 11]\n",
      " [ 6  7 19]]\n"
     ]
    }
   ],
   "source": [
    "\n",
    "arr2 = np.array([ [5,7,9], [-3,6,19], [6,4,11] ])\n",
    "print(arr2)\n",
    "\n",
    "# 열 단위로 원소 정렬  \n",
    "arr2.sort(0)\n",
    "print(arr2)"
   ]
  },
  {
   "cell_type": "code",
   "execution_count": 61,
   "metadata": {},
   "outputs": [
    {
     "name": "stdout",
     "output_type": "stream",
     "text": [
      "[[ 5  7  9]\n",
      " [-3  6 19]\n",
      " [ 4  6 11]]\n"
     ]
    }
   ],
   "source": [
    "arr2 = np.array([ [5,7,9], [-3,6,19], [6,4,11] ])\n",
    "\n",
    "# 행 단위로 원소 정렬 \n",
    "arr2.sort(1)\n",
    "print(arr2)"
   ]
  },
  {
   "cell_type": "code",
   "execution_count": 68,
   "metadata": {},
   "outputs": [
    {
     "name": "stdout",
     "output_type": "stream",
     "text": [
      "[[1 2 3]\n",
      " [4 5 6]]\n",
      "\n",
      "[[[1 2 3]\n",
      "  [4 5 6]]]\n",
      "\n",
      "[[[1 2 3]]\n",
      "\n",
      " [[4 5 6]]]\n",
      "\n",
      "[[[1]\n",
      "  [2]\n",
      "  [3]]\n",
      "\n",
      " [[4]\n",
      "  [5]\n",
      "  [6]]]\n"
     ]
    }
   ],
   "source": [
    "# 2차원축 -> 3차원 축 추가 방법\n",
    "# 방법1 \n",
    "\n",
    "arr1 = np.array([ [1,2,3], [4,5,6]])\n",
    "print(arr1)\n",
    "print()\n",
    "# 첫번째 축에 새로운 축 추가\n",
    "new_ax0 = arr[np.newaxis, : : ]\n",
    "print(new_ax0)\n",
    "\n",
    "print()\n",
    "# 두번째 축에 새로운 축 추가 \n",
    "new_ax1 = arr[:, np.newaxis, :]\n",
    "print(new_ax1)\n",
    "\n",
    "print()\n",
    "# 세번째 축에 새로운 축 추가\n",
    "new_ax2 = arr[:,:,np.newaxis]\n",
    "print(new_ax2)"
   ]
  },
  {
   "cell_type": "code",
   "execution_count": 69,
   "metadata": {},
   "outputs": [
    {
     "data": {
      "text/plain": [
       "array([[0, 0, 0],\n",
       "       [0, 0, 0]])"
      ]
     },
     "execution_count": 69,
     "metadata": {},
     "output_type": "execute_result"
    }
   ],
   "source": [
    "np.zeros_like([[1,2,3],[4,5,6]])"
   ]
  },
  {
   "cell_type": "code",
   "execution_count": 75,
   "metadata": {},
   "outputs": [
    {
     "data": {
      "text/plain": [
       "(array([3, 3, 3]),\n",
       " array([[4, 4, 4],\n",
       "        [4, 4, 4]]))"
      ]
     },
     "execution_count": 75,
     "metadata": {},
     "output_type": "execute_result"
    }
   ],
   "source": [
    "# np.full((행,열),값)\n",
    "\n",
    "np.full(3,3) , np.full((2,3),4)"
   ]
  },
  {
   "cell_type": "code",
   "execution_count": 80,
   "metadata": {},
   "outputs": [
    {
     "data": {
      "text/plain": [
       "array([[0.76152477, 0.92969987, 0.84834368, 0.85172229],\n",
       "       [0.97729114, 0.21308347, 0.74125967, 0.99129862],\n",
       "       [0.50327956, 0.03244158, 0.70476367, 0.52685015]])"
      ]
     },
     "execution_count": 80,
     "metadata": {},
     "output_type": "execute_result"
    }
   ],
   "source": [
    "# random : 임의의 값으로 나타내준다 \n",
    "np.random.random((3,4)) \n",
    "# 튜플 형태의 인자 (3,4)\n",
    "# 한번만 전달받음"
   ]
  },
  {
   "cell_type": "code",
   "execution_count": 82,
   "metadata": {},
   "outputs": [
    {
     "data": {
      "text/plain": [
       "array([[0.64778387, 0.49947268, 0.85663367, 0.95558908],\n",
       "       [0.26042473, 0.94700933, 0.35446321, 0.19800179],\n",
       "       [0.34741947, 0.19821447, 0.88981606, 0.48675939]])"
      ]
     },
     "execution_count": 82,
     "metadata": {},
     "output_type": "execute_result"
    }
   ],
   "source": [
    "np.random.rand(3,4)\n",
    "# 사실 둘의 기능은 똑같다 \n",
    "# 0~1 사이이에서 난수 생성\n",
    "# 여러개 인자를 전달 받을수 있음 "
   ]
  },
  {
   "cell_type": "code",
   "execution_count": 84,
   "metadata": {},
   "outputs": [
    {
     "data": {
      "text/plain": [
       "array([[[0.84375576, 0.14674197],\n",
       "        [0.88199342, 0.36737638],\n",
       "        [0.69345984, 0.09997144],\n",
       "        [0.45901007, 0.20370877]],\n",
       "\n",
       "       [[0.86007944, 0.66357678],\n",
       "        [0.5127811 , 0.49793271],\n",
       "        [0.91043564, 0.19798303],\n",
       "        [0.58147938, 0.30909273]],\n",
       "\n",
       "       [[0.79670281, 0.21598244],\n",
       "        [0.14259278, 0.77151742],\n",
       "        [0.35029963, 0.15113646],\n",
       "        [0.67015541, 0.51664927]]])"
      ]
     },
     "execution_count": 84,
     "metadata": {},
     "output_type": "execute_result"
    }
   ],
   "source": [
    "np.random.rand(3,4,2) # 정규화 \n",
    "# 정규화 > 표준화 "
   ]
  },
  {
   "cell_type": "code",
   "execution_count": 90,
   "metadata": {},
   "outputs": [
    {
     "data": {
      "text/plain": [
       "array([[1., 0., 0., 0.],\n",
       "       [0., 1., 0., 0.],\n",
       "       [0., 0., 1., 0.],\n",
       "       [0., 0., 0., 1.]])"
      ]
     },
     "execution_count": 90,
     "metadata": {},
     "output_type": "execute_result"
    }
   ],
   "source": [
    "# np.eye() : 항등행렬\n",
    "\n",
    "I = np.eye(4)\n",
    "I"
   ]
  },
  {
   "cell_type": "code",
   "execution_count": 88,
   "metadata": {},
   "outputs": [
    {
     "data": {
      "text/plain": [
       "array([[2, 3, 1, 5],\n",
       "       [8, 1, 3, 4],\n",
       "       [5, 6, 7, 8],\n",
       "       [1, 2, 3, 4]])"
      ]
     },
     "execution_count": 88,
     "metadata": {},
     "output_type": "execute_result"
    }
   ],
   "source": [
    "A = np.array([ [2,3,1,5],\n",
    "             [8,1,3,4],\n",
    "             [5,6,7,8],\n",
    "             [1,2,3,4] ])\n",
    "A"
   ]
  },
  {
   "cell_type": "code",
   "execution_count": 91,
   "metadata": {},
   "outputs": [
    {
     "data": {
      "text/plain": [
       "array([[2., 3., 1., 5.],\n",
       "       [8., 1., 3., 4.],\n",
       "       [5., 6., 7., 8.],\n",
       "       [1., 2., 3., 4.]])"
      ]
     },
     "execution_count": 91,
     "metadata": {},
     "output_type": "execute_result"
    }
   ],
   "source": [
    "A @ I"
   ]
  },
  {
   "cell_type": "code",
   "execution_count": 94,
   "metadata": {},
   "outputs": [],
   "source": [
    "# 넘파이 배열 및 크기 변형 \n",
    "\n",
    "arr = np.arange(12).reshape(12,-1)"
   ]
  },
  {
   "cell_type": "code",
   "execution_count": 96,
   "metadata": {},
   "outputs": [
    {
     "data": {
      "text/plain": [
       "array([[ 0,  4,  8],\n",
       "       [ 1,  5,  9],\n",
       "       [ 2,  6, 10],\n",
       "       [ 3,  7, 11]])"
      ]
     },
     "execution_count": 96,
     "metadata": {},
     "output_type": "execute_result"
    }
   ],
   "source": [
    "# order='F' : 값을 열부터 채워넣는다\n",
    "arr.reshape(4,-1,order='F')"
   ]
  },
  {
   "cell_type": "code",
   "execution_count": 97,
   "metadata": {},
   "outputs": [
    {
     "data": {
      "text/plain": [
       "array([0, 1, 2, 3, 4, 5, 6, 7, 8, 9])"
      ]
     },
     "execution_count": 97,
     "metadata": {},
     "output_type": "execute_result"
    }
   ],
   "source": [
    "np.arange(10)"
   ]
  },
  {
   "cell_type": "code",
   "execution_count": 100,
   "metadata": {},
   "outputs": [
    {
     "ename": "TypeError",
     "evalue": "unsupported operand type(s) for -: 'list' and 'int'",
     "output_type": "error",
     "traceback": [
      "\u001b[0;31m---------------------------------------------------------------------------\u001b[0m",
      "\u001b[0;31mTypeError\u001b[0m                                 Traceback (most recent call last)",
      "Cell \u001b[0;32mIn[100], line 2\u001b[0m\n\u001b[1;32m      1\u001b[0m \u001b[38;5;66;03m# 4분위수 \u001b[39;00m\n\u001b[0;32m----> 2\u001b[0m x \u001b[38;5;241m=\u001b[39m np\u001b[38;5;241m.\u001b[39marange([[\u001b[38;5;241m1\u001b[39m,\u001b[38;5;241m2\u001b[39m,\u001b[38;5;241m3\u001b[39m,\u001b[38;5;241m4\u001b[39m,\u001b[38;5;241m5\u001b[39m,\u001b[38;5;241m6\u001b[39m]])\n\u001b[1;32m      3\u001b[0m np\u001b[38;5;241m.\u001b[39mpercentile( (x,\u001b[38;5;241m25\u001b[39m) )\n",
      "\u001b[0;31mTypeError\u001b[0m: unsupported operand type(s) for -: 'list' and 'int'"
     ]
    }
   ],
   "source": [
    "# 4분위수 \n",
    "x = np.arange([[1,2,3,4,5,6]])\n",
    "np.percentile( (x,25) ) #1사분위수\n",
    "np.percentile( (x,50) ) #중위수 2사분위수\n",
    "np.percentile( (x,75) ) #3사분위수"
   ]
  },
  {
   "cell_type": "code",
   "execution_count": null,
   "metadata": {},
   "outputs": [],
   "source": []
  }
 ],
 "metadata": {
  "interpreter": {
   "hash": "40d3a090f54c6569ab1632332b64b2c03c39dcf918b08424e98f38b5ae0af88f"
  },
  "kernelspec": {
   "display_name": "Python 3.11.7 ('base')",
   "language": "python",
   "name": "python3"
  },
  "language_info": {
   "codemirror_mode": {
    "name": "ipython",
    "version": 3
   },
   "file_extension": ".py",
   "mimetype": "text/x-python",
   "name": "python",
   "nbconvert_exporter": "python",
   "pygments_lexer": "ipython3",
   "version": "3.11.7"
  },
  "orig_nbformat": 4
 },
 "nbformat": 4,
 "nbformat_minor": 2
}
